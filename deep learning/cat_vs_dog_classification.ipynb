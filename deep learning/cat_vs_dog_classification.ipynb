{
  "nbformat": 4,
  "nbformat_minor": 0,
  "metadata": {
    "colab": {
      "provenance": [],
      "authorship_tag": "ABX9TyO1F1izNsgeocDJ8lOiJ/uc",
      "include_colab_link": true
    },
    "kernelspec": {
      "name": "python3",
      "display_name": "Python 3"
    },
    "language_info": {
      "name": "python"
    },
    "accelerator": "GPU"
  },
  "cells": [
    {
      "cell_type": "markdown",
      "metadata": {
        "id": "view-in-github",
        "colab_type": "text"
      },
      "source": [
        "<a href=\"https://colab.research.google.com/github/maxzameer/Brainstorm/blob/main/deep%20learning/cat_vs_dog_classification.ipynb\" target=\"_parent\"><img src=\"https://colab.research.google.com/assets/colab-badge.svg\" alt=\"Open In Colab\"/></a>"
      ]
    },
    {
      "cell_type": "code",
      "source": [
        "!mkdir -p ~/.kaggle\n",
        "!cp kaggle.json ~/.kaggle/"
      ],
      "metadata": {
        "id": "PXydrs0_rpSy"
      },
      "execution_count": 1,
      "outputs": []
    },
    {
      "cell_type": "code",
      "execution_count": 2,
      "metadata": {
        "colab": {
          "base_uri": "https://localhost:8080/"
        },
        "id": "VZar9m3GpRaU",
        "outputId": "8de4f153-dc85-44ed-9e25-895f48cad6bf"
      },
      "outputs": [
        {
          "output_type": "stream",
          "name": "stdout",
          "text": [
            "Warning: Your Kaggle API key is readable by other users on this system! To fix this, you can run 'chmod 600 /root/.kaggle/kaggle.json'\n",
            "Downloading dogs-vs-cats.zip to /content\n",
            "100% 1.06G/1.06G [00:07<00:00, 214MB/s]\n",
            "100% 1.06G/1.06G [00:07<00:00, 156MB/s]\n"
          ]
        }
      ],
      "source": [
        "!kaggle datasets download -d salader/dogs-vs-cats\n"
      ]
    },
    {
      "cell_type": "code",
      "source": [
        "import zipfile"
      ],
      "metadata": {
        "id": "WG8icP5fs1kF"
      },
      "execution_count": 3,
      "outputs": []
    },
    {
      "cell_type": "code",
      "source": [
        "zip_ref = zipfile.ZipFile('/content/dogs-vs-cats.zip')\n",
        "zip_ref.extractall('/content')\n",
        "zip_ref.close()"
      ],
      "metadata": {
        "id": "ujtky7CLs5Ak"
      },
      "execution_count": 4,
      "outputs": []
    },
    {
      "cell_type": "code",
      "source": [
        "import tensorflow as tf\n",
        "from tensorflow import keras\n",
        "from keras import Sequential\n",
        "from keras.layers import Dense,Conv2D,MaxPooling2D,Flatten,Dropout,BatchNormalization"
      ],
      "metadata": {
        "id": "J9R3ewSC9RaJ"
      },
      "execution_count": 5,
      "outputs": []
    },
    {
      "cell_type": "code",
      "source": [
        "\n",
        "train_df = keras.utils.image_dataset_from_directory(\n",
        "    directory = '/content/train',\n",
        "    labels = 'inferred',\n",
        "    label_mode = 'int',\n",
        "    validation_split = 0.2,\n",
        "    subset = 'training',\n",
        "    seed = 1337,\n",
        "    batch_size = 32,    \n",
        "    image_size = (256,256)\n",
        ")\n",
        "\n",
        "val_df = keras.utils.image_dataset_from_directory(\n",
        "    directory = '/content/train',\n",
        "    labels = 'inferred',\n",
        "    label_mode = 'int',\n",
        "    batch_size = 32,\n",
        "    validation_split = 0.2,\n",
        "    subset = 'validation',\n",
        "    seed = 1337,\n",
        "    image_size = (256,256)\n",
        ")"
      ],
      "metadata": {
        "id": "zzBNBby6GHBC",
        "outputId": "4f6a0f8e-6b04-4a5f-b3be-25b2615e94d9",
        "colab": {
          "base_uri": "https://localhost:8080/"
        }
      },
      "execution_count": 6,
      "outputs": [
        {
          "output_type": "stream",
          "name": "stdout",
          "text": [
            "Found 20000 files belonging to 2 classes.\n",
            "Using 16000 files for training.\n",
            "Found 20000 files belonging to 2 classes.\n",
            "Using 4000 files for validation.\n"
          ]
        }
      ]
    },
    {
      "cell_type": "code",
      "source": [
        "def normalize(image,label):\n",
        "  image = tf.cast(image/255,tf.float32)\n",
        "  return image,label"
      ],
      "metadata": {
        "id": "cyVNHgbDL1ye"
      },
      "execution_count": 7,
      "outputs": []
    },
    {
      "cell_type": "code",
      "source": [
        "train_df = train_df.map(normalize)\n",
        "val_df = val_df.map(normalize)"
      ],
      "metadata": {
        "id": "dkZ--x7NNXtc"
      },
      "execution_count": 8,
      "outputs": []
    },
    {
      "cell_type": "code",
      "source": [
        "\n",
        "# create CNN model\n",
        "\n",
        "model = Sequential()\n",
        "model.add(Conv2D(32,kernel_size = (3,3),padding = 'valid',activation ='relu',input_shape =(256,256,3)))\n",
        "model.add(MaxPooling2D(pool_size=(2,2),strides = 2 , padding = 'valid'))\n",
        "\n",
        "model.add(Conv2D(32,kernel_size = (3,3),padding = 'valid',activation ='relu'))\n",
        "model.add(MaxPooling2D(pool_size=(2,2),strides = 2 , padding = 'valid'))\n",
        "\n",
        "model.add(Conv2D(32,kernel_size = (3,3),padding = 'valid',activation ='relu'))\n",
        "model.add(MaxPooling2D(pool_size=(2,2),strides = 2 , padding = 'valid'))\n",
        "\n",
        "model.add(Flatten())\n",
        "model.add(Dense(128,activation ='relu'))\n",
        "model.add(BatchNormalization())\n",
        "\n",
        "model.add(Dense(64,activation ='relu'))\n",
        "model.add(BatchNormalization())\n",
        "\n",
        "model.add(Dense(1,activation ='sigmoid'))\n",
        "\n"
      ],
      "metadata": {
        "id": "gCYvGt0cRs_8"
      },
      "execution_count": 9,
      "outputs": []
    },
    {
      "cell_type": "code",
      "source": [
        "model.compile(optimizer='adam',loss ='binary_crossentropy',metrics = ['accuracy'])"
      ],
      "metadata": {
        "id": "LRSyPAtyAlt5"
      },
      "execution_count": 10,
      "outputs": []
    },
    {
      "cell_type": "code",
      "source": [
        "history = model.fit(train_df,epochs=20,validation_data=val_df)"
      ],
      "metadata": {
        "colab": {
          "base_uri": "https://localhost:8080/"
        },
        "id": "XCniWj5JAmRd",
        "outputId": "63cd13b9-da10-41a9-e564-3d4ebc2ed829"
      },
      "execution_count": null,
      "outputs": [
        {
          "output_type": "stream",
          "name": "stdout",
          "text": [
            "Epoch 1/20\n",
            "382/500 [=====================>........] - ETA: 5:13 - loss: 0.6289 - accuracy: 0.6434"
          ]
        }
      ]
    },
    {
      "cell_type": "code",
      "source": [
        "# create CNN model\n",
        "\n",
        "model_out = Sequential()\n",
        "model_out.add(Conv2D(32,kernel_size = (3,3),padding = 'valid',activation ='relu',input_shape =(256,256,3)))\n",
        "model_out.add(MaxPooling2D(pool_size=(2,2),strides = 2 , padding = 'valid'))\n",
        "\n",
        "model_out.add(Conv2D(32,kernel_size = (3,3),padding = 'valid',activation ='relu'))\n",
        "model_out.add(MaxPooling2D(pool_size=(2,2),strides = 2 , padding = 'valid'))\n",
        "\n",
        "model_out.add(Conv2D(32,kernel_size = (3,3),padding = 'valid',activation ='relu'))\n",
        "model_out.add(MaxPooling2D(pool_size=(2,2),strides = 2 , padding = 'valid'))\n",
        "\n",
        "model_out.add(Flatten())\n",
        "model_out.add(Dense(128,activation ='relu'))\n",
        "model_out.add(BatchNormalization())\n",
        "model_out.add(Dropout(0.1))\n",
        "model_out.add(Dense(64,activation ='relu'))\n",
        "model_out.add(BatchNormalization())\n",
        "model_out.add(Dropout(0.1))\n",
        "model_out.add(Dense(1,activation ='sigmoid'))"
      ],
      "metadata": {
        "id": "DQLDICBOAVBB"
      },
      "execution_count": null,
      "outputs": []
    },
    {
      "cell_type": "code",
      "source": [
        "model_out.compile(optimizer='adam',loss ='binary_crossentropy',metrics = ['accuracy'])"
      ],
      "metadata": {
        "id": "gRm6BLf2Ax8i"
      },
      "execution_count": null,
      "outputs": []
    },
    {
      "cell_type": "code",
      "source": [
        "history = model_out.fit(train_df,epochs=20,validation_data=val_df)"
      ],
      "metadata": {
        "id": "ajxwxDvnAyKb"
      },
      "execution_count": null,
      "outputs": []
    },
    {
      "cell_type": "code",
      "source": [
        "# create CNN model\n",
        "\n",
        "model1 = Sequential()\n",
        "model1.add(Conv2D(32,kernel_size = (3,3),padding = 'valid',activation ='relu',input_shape =(256,256,3)))\n",
        "model1.add(BatchNormalization())\n",
        "model1.add(MaxPooling2D(pool_size=(2,2),strides = 2 , padding = 'valid'))\n",
        "\n",
        "model1.add(Conv2D(32,kernel_size = (3,3),padding = 'valid',activation ='relu'))\n",
        "model1.add(BatchNormalization())\n",
        "model1.add(MaxPooling2D(pool_size=(2,2),strides = 2 , padding = 'valid'))\n",
        "\n",
        "model1.add(Conv2D(32,kernel_size = (3,3),padding = 'valid',activation ='relu'))\n",
        "model1.add(BatchNormalization())\n",
        "model1.add(MaxPooling2D(pool_size=(2,2),strides = 2 , padding = 'valid'))\n",
        "\n",
        "model1.add(Flatten())\n",
        "model1.add(Dense(128,activation ='relu'))\n",
        "model1.add(BatchNormalization())\n",
        "model1.add(Dropout(0.1))\n",
        "model1.add(Dense(64,activation ='relu'))\n",
        "model1.add(BatchNormalization())\n",
        "model1.add(Dropout(0.1))\n",
        "model1.add(Dense(1,activation ='sigmoid'))\n"
      ],
      "metadata": {
        "id": "vakuE51l0Dvr"
      },
      "execution_count": null,
      "outputs": []
    },
    {
      "cell_type": "code",
      "source": [
        "model1.compile(optimizer='adam',loss ='binary_crossentropy',metrics = ['accuracy'])"
      ],
      "metadata": {
        "id": "e6o0LkXBBLbc"
      },
      "execution_count": null,
      "outputs": []
    },
    {
      "cell_type": "code",
      "source": [
        "history = model1.fit(train_df,epochs=10,validation_data=val_df)"
      ],
      "metadata": {
        "id": "U-bNN-ONBMMP"
      },
      "execution_count": null,
      "outputs": []
    },
    {
      "cell_type": "code",
      "source": [
        "model2 = Sequential()\n",
        "model2.add(Conv2D(32,kernel_size = (3,3),padding = 'valid',activation ='relu',input_shape =(256,256,3)))\n",
        "model2.add(BatchNormalization())\n",
        "model2.add(MaxPooling2D(pool_size=(2,2),strides = 2 , padding = 'valid'))\n",
        "\n",
        "model2.add(Conv2D(32,kernel_size = (3,3),padding = 'valid',activation ='relu'))\n",
        "model2.add(BatchNormalization())\n",
        "model2.add(MaxPooling2D(pool_size=(2,2),strides = 2 , padding = 'valid'))\n",
        "\n",
        "model2.add(Conv2D(32,kernel_size = (3,3),padding = 'valid',activation ='relu'))\n",
        "model2.add(BatchNormalization())\n",
        "model2.add(MaxPooling2D(pool_size=(2,2),strides = 2 , padding = 'valid'))\n",
        "\n",
        "model2.add(Flatten())\n",
        "model2.add(Dense(128,activation ='relu'))\n",
        "\n",
        "model2.add(Dropout(0.1))\n",
        "model2.add(Dense(64,activation ='relu'))\n",
        "\n",
        "model2.add(Dropout(0.1))\n",
        "model2.add(Dense(1,activation ='sigmoid'))\n"
      ],
      "metadata": {
        "id": "I3fp6G590UMv"
      },
      "execution_count": null,
      "outputs": []
    },
    {
      "cell_type": "code",
      "source": [
        "model2.compile(optimizer='adam',loss ='binary_crossentropy',metrics = ['accuracy'])\n"
      ],
      "metadata": {
        "id": "RQeJTx6OenZc"
      },
      "execution_count": null,
      "outputs": []
    },
    {
      "cell_type": "code",
      "source": [
        "history = model2.fit(train_df,epochs=10,validation_data=val_df)\n"
      ],
      "metadata": {
        "id": "d71jyTkjfdjc"
      },
      "execution_count": null,
      "outputs": []
    },
    {
      "cell_type": "code",
      "source": [
        "model4 = Sequential()\n",
        "model4.add(Conv2D(32,kernel_size = (3,3),padding = 'valid',activation ='relu',input_shape =(256,256,3)))\n",
        "model4.add(BatchNormalization())\n",
        "model4.add(MaxPooling2D(pool_size=(2,2),strides = 2 , padding = 'valid'))\n",
        "\n",
        "model4.add(Conv2D(32,kernel_size = (3,3),padding = 'valid',activation ='relu'))\n",
        "model4.add(BatchNormalization())\n",
        "model4.add(MaxPooling2D(pool_size=(2,2),strides = 2 , padding = 'valid'))\n",
        "\n",
        "model4.add(Conv2D(32,kernel_size = (3,3),padding = 'valid',activation ='relu'))\n",
        "model4.add(BatchNormalization())\n",
        "model4.add(MaxPooling2D(pool_size=(2,2),strides = 2 , padding = 'valid'))\n",
        "\n",
        "model4.add(Flatten())\n",
        "model4.add(Dense(128,activation ='relu'))\n",
        "model4.add(BatchNormalization())\n",
        "\n",
        "model4.add(Dense(64,activation ='relu'))\n",
        "model4.add(BatchNormalization())\n",
        "\n",
        "model4.add(Dense(1,activation ='sigmoid'))"
      ],
      "metadata": {
        "id": "xa1gY8Zk6UCp"
      },
      "execution_count": null,
      "outputs": []
    },
    {
      "cell_type": "code",
      "source": [
        "model4.compile(optimizer='adam',loss ='binary_crossentropy',metrics = ['accuracy'])"
      ],
      "metadata": {
        "id": "ThATi_LU6kOs"
      },
      "execution_count": null,
      "outputs": []
    },
    {
      "cell_type": "code",
      "source": [
        "history4 = model4.fit(train_df,epochs=20,validation_data=val_df)"
      ],
      "metadata": {
        "id": "eSJ8C9Xt6o9P"
      },
      "execution_count": null,
      "outputs": []
    },
    {
      "cell_type": "code",
      "source": [
        "model.summary()"
      ],
      "metadata": {
        "id": "US2slG0rbRF8"
      },
      "execution_count": null,
      "outputs": []
    }
  ]
}