{
  "nbformat": 4,
  "nbformat_minor": 0,
  "metadata": {
    "colab": {
      "provenance": [],
      "authorship_tag": "ABX9TyM5iDkM8bivXQdyMwmP0lbv",
      "include_colab_link": true
    },
    "kernelspec": {
      "name": "python3",
      "display_name": "Python 3"
    },
    "language_info": {
      "name": "python"
    },
    "accelerator": "GPU"
  },
  "cells": [
    {
      "cell_type": "markdown",
      "metadata": {
        "id": "view-in-github",
        "colab_type": "text"
      },
      "source": [
        "<a href=\"https://colab.research.google.com/github/maxzameer/Brainstorm/blob/main/deep%20learning/cat_vs_dog_classification.ipynb\" target=\"_parent\"><img src=\"https://colab.research.google.com/assets/colab-badge.svg\" alt=\"Open In Colab\"/></a>"
      ]
    },
    {
      "cell_type": "code",
      "source": [
        "!mkdir -p ~/.kaggle\n",
        "!cp kaggle.json ~/.kaggle/"
      ],
      "metadata": {
        "id": "PXydrs0_rpSy"
      },
      "execution_count": 1,
      "outputs": []
    },
    {
      "cell_type": "code",
      "execution_count": 2,
      "metadata": {
        "colab": {
          "base_uri": "https://localhost:8080/"
        },
        "id": "VZar9m3GpRaU",
        "outputId": "3a09561d-b7c4-432b-d9a2-673f4f0feeee"
      },
      "outputs": [
        {
          "output_type": "stream",
          "name": "stdout",
          "text": [
            "Warning: Your Kaggle API key is readable by other users on this system! To fix this, you can run 'chmod 600 /root/.kaggle/kaggle.json'\n",
            "Downloading dogs-vs-cats.zip to /content\n",
            " 98% 1.05G/1.06G [00:04<00:00, 251MB/s]\n",
            "100% 1.06G/1.06G [00:04<00:00, 272MB/s]\n"
          ]
        }
      ],
      "source": [
        "!kaggle datasets download -d salader/dogs-vs-cats\n"
      ]
    },
    {
      "cell_type": "code",
      "source": [
        "import zipfile"
      ],
      "metadata": {
        "id": "WG8icP5fs1kF"
      },
      "execution_count": 3,
      "outputs": []
    },
    {
      "cell_type": "code",
      "source": [
        "zip_ref = zipfile.ZipFile('/content/dogs-vs-cats.zip')\n",
        "zip_ref.extractall('/content')\n",
        "zip_ref.close()"
      ],
      "metadata": {
        "id": "ujtky7CLs5Ak"
      },
      "execution_count": 5,
      "outputs": []
    },
    {
      "cell_type": "code",
      "source": [
        "import tensorflow as tf\n",
        "from tensorflow import keras\n",
        "from keras import Sequential\n",
        "from keras.layers import Dense,Conv2D,MaxPooling2D,Flatten,Dropout,BatchNormalization"
      ],
      "metadata": {
        "id": "J9R3ewSC9RaJ"
      },
      "execution_count": 16,
      "outputs": []
    },
    {
      "cell_type": "code",
      "source": [
        "\n",
        "train_df = keras.utils.image_dataset_from_directory(\n",
        "    directory = '/content/train',\n",
        "    labels = 'inferred',\n",
        "    label_mode = 'int',\n",
        "    validation_split = 0.2,\n",
        "    subset = 'training',\n",
        "    seed = 1337,\n",
        "    batch_size = 32,    \n",
        "    image_size = (256,256)\n",
        ")\n",
        "\n",
        "val_df = keras.utils.image_dataset_from_directory(\n",
        "    directory = '/content/train',\n",
        "    labels = 'inferred',\n",
        "    label_mode = 'int',\n",
        "    batch_size = 32,\n",
        "    validation_split = 0.2,\n",
        "    subset = 'validation',\n",
        "    seed = 1337,\n",
        "    image_size = (256,256)\n",
        ")"
      ],
      "metadata": {
        "id": "zzBNBby6GHBC",
        "outputId": "e90ed9b2-37bc-42d2-e39e-d775a6ab21bb",
        "colab": {
          "base_uri": "https://localhost:8080/"
        }
      },
      "execution_count": 8,
      "outputs": [
        {
          "output_type": "stream",
          "name": "stdout",
          "text": [
            "Found 20000 files belonging to 2 classes.\n",
            "Using 16000 files for training.\n",
            "Found 20000 files belonging to 2 classes.\n",
            "Using 4000 files for validation.\n"
          ]
        }
      ]
    },
    {
      "cell_type": "code",
      "source": [
        "def normalize(image,label):\n",
        "  image = tf.cast(image/255,tf.float32)\n",
        "  return image,label"
      ],
      "metadata": {
        "id": "cyVNHgbDL1ye"
      },
      "execution_count": 9,
      "outputs": []
    },
    {
      "cell_type": "code",
      "source": [
        "train_df = train_df.map(normalize)\n",
        "val_df = val_df.map(normalize)"
      ],
      "metadata": {
        "id": "dkZ--x7NNXtc"
      },
      "execution_count": 10,
      "outputs": []
    },
    {
      "cell_type": "code",
      "source": [
        "\n",
        "# create CNN model\n",
        "\n",
        "model = Sequential()\n",
        "model.add(Conv2D(32,kernel_size = (3,3),padding = 'valid',activation ='relu',input_shape =(256,256,3)))\n",
        "model.add(MaxPooling2D(pool_size=(2,2),strides = 2 , padding = 'valid'))\n",
        "\n",
        "model.add(Conv2D(32,kernel_size = (3,3),padding = 'valid',activation ='relu'))\n",
        "model.add(MaxPooling2D(pool_size=(2,2),strides = 2 , padding = 'valid'))\n",
        "\n",
        "model.add(Conv2D(32,kernel_size = (3,3),padding = 'valid',activation ='relu'))\n",
        "model.add(MaxPooling2D(pool_size=(2,2),strides = 2 , padding = 'valid'))\n",
        "\n",
        "model.add(Flatten())\n",
        "model.add(Dense(128,activation ='relu'))\n",
        "model.add(BatchNormalization())\n",
        "model.add(Dense(64,activation ='relu'))\n",
        "model.add(BatchNormalization())\n",
        "model.add(Dense(1,activation ='sigmoid'))\n",
        "\n"
      ],
      "metadata": {
        "id": "gCYvGt0cRs_8"
      },
      "execution_count": 17,
      "outputs": []
    },
    {
      "cell_type": "code",
      "source": [
        "model.summary()"
      ],
      "metadata": {
        "id": "US2slG0rbRF8",
        "outputId": "1fc9f3d2-3b1c-4a07-bf01-9fec45262718",
        "colab": {
          "base_uri": "https://localhost:8080/"
        }
      },
      "execution_count": 12,
      "outputs": [
        {
          "output_type": "stream",
          "name": "stdout",
          "text": [
            "Model: \"sequential\"\n",
            "_________________________________________________________________\n",
            " Layer (type)                Output Shape              Param #   \n",
            "=================================================================\n",
            " conv2d (Conv2D)             (None, 254, 254, 32)      896       \n",
            "                                                                 \n",
            " max_pooling2d (MaxPooling2D  (None, 127, 127, 32)     0         \n",
            " )                                                               \n",
            "                                                                 \n",
            " conv2d_1 (Conv2D)           (None, 125, 125, 32)      9248      \n",
            "                                                                 \n",
            " max_pooling2d_1 (MaxPooling  (None, 62, 62, 32)       0         \n",
            " 2D)                                                             \n",
            "                                                                 \n",
            " conv2d_2 (Conv2D)           (None, 60, 60, 32)        9248      \n",
            "                                                                 \n",
            " max_pooling2d_2 (MaxPooling  (None, 30, 30, 32)       0         \n",
            " 2D)                                                             \n",
            "                                                                 \n",
            " flatten (Flatten)           (None, 28800)             0         \n",
            "                                                                 \n",
            " dense (Dense)               (None, 128)               3686528   \n",
            "                                                                 \n",
            " dense_1 (Dense)             (None, 64)                8256      \n",
            "                                                                 \n",
            " dense_2 (Dense)             (None, 1)                 65        \n",
            "                                                                 \n",
            "=================================================================\n",
            "Total params: 3,714,241\n",
            "Trainable params: 3,714,241\n",
            "Non-trainable params: 0\n",
            "_________________________________________________________________\n"
          ]
        }
      ]
    },
    {
      "cell_type": "code",
      "source": [
        "model.compile(optimizer='adam',loss ='binary_crossentropy',metrics = ['accuracy'])\n"
      ],
      "metadata": {
        "id": "RQeJTx6OenZc"
      },
      "execution_count": 18,
      "outputs": []
    },
    {
      "cell_type": "code",
      "source": [
        "history = model.fit(train_df,epochs=10,validation_data=val_df)\n"
      ],
      "metadata": {
        "id": "d71jyTkjfdjc",
        "outputId": "52a79d04-9b28-4301-c47b-687084efccf3",
        "colab": {
          "base_uri": "https://localhost:8080/"
        }
      },
      "execution_count": null,
      "outputs": [
        {
          "output_type": "stream",
          "name": "stdout",
          "text": [
            "Epoch 1/10\n",
            "500/500 [==============================] - 44s 86ms/step - loss: 0.6182 - accuracy: 0.6552 - val_loss: 1.9420 - val_accuracy: 0.5182\n",
            "Epoch 2/10\n",
            "500/500 [==============================] - 42s 83ms/step - loss: 0.5305 - accuracy: 0.7350 - val_loss: 0.6727 - val_accuracy: 0.6743\n",
            "Epoch 3/10\n",
            "500/500 [==============================] - 42s 84ms/step - loss: 0.4521 - accuracy: 0.7863 - val_loss: 0.5176 - val_accuracy: 0.7375\n",
            "Epoch 4/10\n",
            "500/500 [==============================] - 42s 83ms/step - loss: 0.3693 - accuracy: 0.8353 - val_loss: 0.6401 - val_accuracy: 0.7040\n",
            "Epoch 5/10\n",
            "365/500 [====================>.........] - ETA: 9s - loss: 0.2844 - accuracy: 0.8789"
          ]
        }
      ]
    },
    {
      "cell_type": "code",
      "source": [],
      "metadata": {
        "id": "mZ3d1GH7gxn4"
      },
      "execution_count": null,
      "outputs": []
    }
  ]
}